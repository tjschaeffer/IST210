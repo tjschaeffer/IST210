{
 "cells": [
  {
   "cell_type": "markdown",
   "metadata": {},
   "source": [
    "# IST 210 Final Project (Main)"
   ]
  },
  {
   "cell_type": "markdown",
   "metadata": {},
   "source": [
    "TJ Schaeffer, Anthony Tata, Brian Gilbride, Grant Pluth, David Rose"
   ]
  },
  {
   "cell_type": "markdown",
   "metadata": {},
   "source": [
    "## Main Idea: Chick-Fil-A"
   ]
  },
  {
   "cell_type": "markdown",
   "metadata": {},
   "source": [
    "With this table we will be able to input information from many different Chick Fil A franchises. These inputs will be categorized by what the information is directly related to, and we will be able to show the correlation between all of them though a relationship diagram. The first chart consists of all employee information. The primary key will be their Employee ID. This chart will also house all of their personal information such as name, date of birth, photo, phone number, email, wage/salary, and the store number they work at. The store number is important so we know which employee is in what store. That will serve as the foreign key to the store table. The store table will hold the store name, store address, and phone number. The locations are primarily made up of customers, employees, and food. In this instance we are focused on internal company data, so we want to have all inputs related to our food. This starts with suppliers. Each supplier will be uniquely identified with a supplier ID. Then we will have the product they produce, how it will be delivered to the store location, and their location. The suppliers are key players in every business because proper supplier relations can significantly lower cost for the company, therefore increasing profit. What the suppliers supply Chick Fil A with will be the “raw materials” that go into the “finished product” (aka the ingredients that form our product recipes). The ingredients will have their ID as well. They will also have the type of storage, shelf life, pack size, etc. Chick Fil A, similar to every other restaurant, has a lot more to worry about than just their food selection. They need sauces, packaging, napkins, straws, utensils, kitchen equipment, hygiene supplies (gloves and hair nets), gift cards, or uniforms. That is just a small portion of miscellaneous things that all need some type of supplier, unless Chick Fil A vertically integrated to start making their own (they own the manufacturing of those items). All information that can help the company keep them fresh and, in turn, provide our customers with the best products possible. Our menu is rather extensive but we will be able to break it down either by item type, or price. Obviously most of our product offerings revolve around either pieces of chicken that can be used for sandwiches, or nuggets that are smaller bite sizes pieces, usually served alone as their own product. On top of all of the chicken, we have secondary items like buns, sauces, lettuce, and pickles. All of these items will fall under our recipe category as they are what make up our product offerings that are customers know and love. Each offering has its own unique ID (it’s name). This will allow us to identify the product ordered and then we can look at things such as price, meal options, nutritional facts or all of ingredients that go into it. As you can see, although all of them are separate, it’s important to note how they all play together (see the primary and foreign keys on each table). This data is huge for improving back end supply chain logistics. This connects the dots within the business showing if one part is slacking, it will hurt the rest of the business. "
   ]
  },
  {
   "cell_type": "markdown",
   "metadata": {},
   "source": [
    "<img src=\"Target.png\">"
   ]
  }
 ],
 "metadata": {
  "kernelspec": {
   "display_name": "Python 3",
   "language": "python",
   "name": "python3"
  },
  "language_info": {
   "codemirror_mode": {
    "name": "ipython",
    "version": 3
   },
   "file_extension": ".py",
   "mimetype": "text/x-python",
   "name": "python",
   "nbconvert_exporter": "python",
   "pygments_lexer": "ipython3",
   "version": "3.7.3"
  }
 },
 "nbformat": 4,
 "nbformat_minor": 2
}

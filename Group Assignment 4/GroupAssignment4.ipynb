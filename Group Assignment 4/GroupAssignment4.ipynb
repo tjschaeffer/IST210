{
 "cells": [
  {
   "cell_type": "markdown",
   "metadata": {
    "colab_type": "text",
    "id": "view-in-github"
   },
   "source": [
    "<a href=\"https://colab.research.google.com/github/tjschaeffer/IST210-Final-Project-Main/blob/master/GroupAssignment4.ipynb\" target=\"_parent\"><img src=\"https://colab.research.google.com/assets/colab-badge.svg\" alt=\"Open In Colab\"/></a>"
   ]
  },
  {
   "cell_type": "code",
   "execution_count": 0,
   "metadata": {
    "colab": {},
    "colab_type": "code",
    "id": "cU_buwsnNADg"
   },
   "outputs": [],
   "source": [
    "import sqlite3 # Once imported in a single notebook, it is available to us throughout the rest of the notebook. \n",
    "# connect to database, if not there, create it.\n",
    "connectionToDatabase = sqlite3.connect('ChickFilA') \n",
    "cursor = connectionToDatabase.cursor()\n",
    "cursor.execute('''drop table IF EXISTS Employees''')\n",
    "connectionToDatabase.commit()\n",
    "\n",
    "cursor.execute('''create table Employees (Employee_ID text PRIMARY KEY, Name text, Store_ID text, Role text, Wage text)''')\n",
    "connectionToDatabase.commit()\n",
    "\n",
    "\n",
    "cursor.execute('''drop table IF EXISTS Store''')\n",
    "connectionToDatabase.commit()\n",
    "\n",
    "\n",
    "cursor.execute('''create table Store (Store_ID text PRIMARY KEY, Location text, PhoneNum text)''')\n",
    "connectionToDatabase.commit()\n",
    "\n",
    "\n",
    "cursor.execute('''drop table IF EXISTS Transactions''')\n",
    "connectionToDatabase.commit()\n",
    "\n",
    "\n",
    "cursor.execute('''create table Transactions (Transaction_ID text PRIMARY KEY, Store_ID text, Product_ID text, DateTime text)''')\n",
    "connectionToDatabase.commit()\n",
    "\n",
    "cursor.execute('''drop table IF EXISTS Products''')\n",
    "connectionToDatabase.commit()\n",
    "\n",
    "\n",
    "cursor.execute('''create table Products (Product_ID text PRIMARY KEY, Name text, Cost real, Type text)''')\n",
    "connectionToDatabase.commit()\n",
    "\n"
   ]
  },
  {
   "cell_type": "code",
   "execution_count": 0,
   "metadata": {
    "colab": {
     "base_uri": "https://localhost:8080/",
     "height": 34
    },
    "colab_type": "code",
    "id": "xUH9f2OR2EEt",
    "outputId": "fcfeb49f-073b-43bd-85b1-68b40d4f1360"
   },
   "outputs": [
    {
     "data": {
      "text/plain": [
       "<sqlite3.Cursor at 0x7f77337eca40>"
      ]
     },
     "execution_count": 2,
     "metadata": {
      "tags": []
     },
     "output_type": "execute_result"
    }
   ],
   "source": [
    "insertStatement =  \"\"\"insert into Employees values ('64280', 'John Smith', 'MA025', 'Cashier', 13.50)\"\"\" \n",
    "cursor.execute(insertStatement)\n",
    "insertStatement =  \"\"\"insert into Employees values ('82715', 'Chris Ryder', 'PA012', 'Manager', 30.00)\"\"\" \n",
    "cursor.execute(insertStatement)\n",
    "insertStatement =  \"\"\"insert into Employees values ('29617', 'Paige Hope', 'NJ081', 'Cashier', 13.50)\"\"\" \n",
    "cursor.execute(insertStatement)\n",
    "insertStatement =  \"\"\"insert into Employees values ('41826', 'Kayla Malo', 'MD014', 'Fryer', 13.50)\"\"\" \n",
    "cursor.execute(insertStatement)\n",
    "insertStatement =  \"\"\"insert into Employees values ('51892', 'Mike Ditela', 'OH032', 'Manager', 30.00)\"\"\" \n",
    "cursor.execute(insertStatement)\n",
    "\n"
   ]
  },
  {
   "cell_type": "code",
   "execution_count": 0,
   "metadata": {
    "colab": {
     "base_uri": "https://localhost:8080/",
     "height": 34
    },
    "colab_type": "code",
    "id": "Gp8svJ4b5HPM",
    "outputId": "ade0970a-9123-4585-887e-c09ca11c46b6"
   },
   "outputs": [
    {
     "data": {
      "text/plain": [
       "<sqlite3.Cursor at 0x7f77337eca40>"
      ]
     },
     "execution_count": 3,
     "metadata": {
      "tags": []
     },
     "output_type": "execute_result"
    }
   ],
   "source": [
    "insertStatement =  \"\"\"insert into Store values ('MA025', 'Marlborough, MA', '978-568-0657')\"\"\" \n",
    "cursor.execute(insertStatement)\n",
    "insertStatement =  \"\"\"insert into Store values ('PA012', 'Ambler, PA', '484-757-0568')\"\"\" \n",
    "cursor.execute(insertStatement)\n",
    "insertStatement =  \"\"\"insert into Store values ('NJ081', 'Princeton, NJ', '908-751-1290')\"\"\" \n",
    "cursor.execute(insertStatement)\n",
    "insertStatement =  \"\"\"insert into Store values ('MD014', 'Chevy Chase, MD', '301-996-0549')\"\"\" \n",
    "cursor.execute(insertStatement)\n",
    "insertStatement =  \"\"\"insert into Store values ('OH032', 'Akron, OH', '330-843-3467')\"\"\" \n",
    "cursor.execute(insertStatement)"
   ]
  },
  {
   "cell_type": "code",
   "execution_count": 0,
   "metadata": {
    "colab": {
     "base_uri": "https://localhost:8080/",
     "height": 34
    },
    "colab_type": "code",
    "id": "nJinN2fe-xiO",
    "outputId": "474153be-acd8-4c40-85b2-d59cf80697a7"
   },
   "outputs": [
    {
     "data": {
      "text/plain": [
       "<sqlite3.Cursor at 0x7f77337eca40>"
      ]
     },
     "execution_count": 4,
     "metadata": {
      "tags": []
     },
     "output_type": "execute_result"
    }
   ],
   "source": [
    "insertStatement =  \"\"\"insert into Transactions values ('01', 'MA025', '98723171', '2019-11-15 12:12:12')\"\"\" \n",
    "cursor.execute(insertStatement)\n",
    "insertStatement =  \"\"\"insert into Transactions values ('02', 'PA012', '83231231', '2019-11-15 12:12:20')\"\"\" \n",
    "cursor.execute(insertStatement)\n",
    "insertStatement =  \"\"\"insert into Transactions values ('03', 'NJ081', '75351143', '2019-11-15 12:12:23')\"\"\" \n",
    "cursor.execute(insertStatement)\n",
    "insertStatement =  \"\"\"insert into Transactions values ('04', 'MD014', '63532454', '2019-11-15 19:34:23')\"\"\" \n",
    "cursor.execute(insertStatement)\n",
    "insertStatement =  \"\"\"insert into Transactions values ('05', 'OH032', '55234231', '2019-11-15 19:34:25')\"\"\" \n",
    "cursor.execute(insertStatement)"
   ]
  },
  {
   "cell_type": "code",
   "execution_count": 0,
   "metadata": {
    "colab": {
     "base_uri": "https://localhost:8080/",
     "height": 34
    },
    "colab_type": "code",
    "id": "egzMI45K5hqM",
    "outputId": "45ad13db-b798-4916-e2f8-9c51cc267c3c"
   },
   "outputs": [
    {
     "data": {
      "text/plain": [
       "<sqlite3.Cursor at 0x7f77337eca40>"
      ]
     },
     "execution_count": 5,
     "metadata": {
      "tags": []
     },
     "output_type": "execute_result"
    }
   ],
   "source": [
    "insertStatement =  \"\"\"insert into Products values ('98723171', 'Chicken Sandwich', 4.00, 'Entree')\"\"\" \n",
    "cursor.execute(insertStatement)\n",
    "insertStatement =  \"\"\"insert into Products values ('83231231', 'Fried Nuggets', 4.00, 'Entree')\"\"\" \n",
    "cursor.execute(insertStatement)\n",
    "insertStatement =  \"\"\"insert into Products values ('75351143', 'Grilled Nuggets', 4.60, 'Entree')\"\"\" \n",
    "cursor.execute(insertStatement)\n",
    "insertStatement =  \"\"\"insert into Products values ('63532454', 'Lemonade', 2.00, 'Drink')\"\"\" \n",
    "cursor.execute(insertStatement)\n",
    "insertStatement =  \"\"\"insert into Products values ('55234231', 'Waffle Fries', 2.00, 'Side')\"\"\" \n",
    "cursor.execute(insertStatement)"
   ]
  },
  {
   "cell_type": "markdown",
   "metadata": {
    "colab_type": "text",
    "id": "oJVpCWOITRO8"
   },
   "source": [
    "# ER Diagram"
   ]
  },
  {
   "cell_type": "markdown",
   "metadata": {
    "colab_type": "text",
    "id": "snKG7tYGRJnF"
   },
   "source": [
    "![alt text](https://raw.githubusercontent.com/tjschaeffer/IST210-Final-Project-Main/master/Group%20Assignment%202.png)"
   ]
  },
  {
   "cell_type": "markdown",
   "metadata": {
    "colab_type": "text",
    "id": "NflQxtLj5mW4"
   },
   "source": [
    "# Group Assignment 4"
   ]
  },
  {
   "cell_type": "code",
   "execution_count": 0,
   "metadata": {
    "colab": {},
    "colab_type": "code",
    "id": "OLcYmsVGSXhW"
   },
   "outputs": [],
   "source": []
  },
  {
   "cell_type": "markdown",
   "metadata": {
    "colab_type": "text",
    "id": "UoVUz-_y7MRY"
   },
   "source": [
    "TJ Schaeffer, Anthony Tata and Brian Gilbride"
   ]
  },
  {
   "cell_type": "markdown",
   "metadata": {
    "colab_type": "text",
    "id": "ivzc_S58Mw8T"
   },
   "source": [
    "Who is the manager at the Pennsylvania Chick-Fil-A?"
   ]
  },
  {
   "cell_type": "code",
   "execution_count": 0,
   "metadata": {
    "colab": {
     "base_uri": "https://localhost:8080/",
     "height": 34
    },
    "colab_type": "code",
    "id": "ena8Yzrw7KeT",
    "outputId": "7820bfd4-9ab3-45d3-ed84-40c1f8e60cf6"
   },
   "outputs": [
    {
     "name": "stdout",
     "output_type": "stream",
     "text": [
      "('82715', 'Chris Ryder', 'PA012', 'Manager', '30.0')\n"
     ]
    }
   ],
   "source": [
    "cursor.execute('''select * from Employees where role = \"Manager\" and Store_ID like \"PA%\" limit 5;''')\n",
    "for row in cursor.fetchall():\n",
    "  print (row)"
   ]
  },
  {
   "cell_type": "markdown",
   "metadata": {
    "colab_type": "text",
    "id": "Tantle5AaTe2"
   },
   "source": [
    "-Essentially, we've constructed a code that can identify who the manager is at specific Chick-Fil-A locations. This is useful because rather than sorting through lengthy sets of data, Chic-Fil-A could quickly figure out who manages each store. This could be useful in any type of \"Store Lookup\" type of scenario. Say a user needs to contact the manager of a specific location, they could utilize this tool."
   ]
  },
  {
   "cell_type": "markdown",
   "metadata": {
    "colab_type": "text",
    "id": "6EDz3uGfM0ak"
   },
   "source": [
    "What food items are above $3?"
   ]
  },
  {
   "cell_type": "code",
   "execution_count": 0,
   "metadata": {
    "colab": {
     "base_uri": "https://localhost:8080/",
     "height": 68
    },
    "colab_type": "code",
    "id": "Vh5zMZJjP8ah",
    "outputId": "3522ffbf-97b6-4278-e79d-00dd55eb361d"
   },
   "outputs": [
    {
     "name": "stdout",
     "output_type": "stream",
     "text": [
      "('98723171', 'Chicken Sandwich', 4.0, 'Entree')\n",
      "('83231231', 'Fried Nuggets', 4.0, 'Entree')\n",
      "('75351143', 'Grilled Nuggets', 4.6, 'Entree')\n"
     ]
    }
   ],
   "source": [
    "cursor.execute('''select * from Products where cost >= 3 limit 5;''')\n",
    "for row in cursor.fetchall():\n",
    "  print (row)"
   ]
  },
  {
   "cell_type": "markdown",
   "metadata": {
    "colab_type": "text",
    "id": "KDvrkGCwa-jY"
   },
   "source": [
    "In this code, we've designed a way for users to sort all products sold from Chick-Fil-A by a price point. Specifically, with this, we evaluate all products over the price of 3 dollars. This could be useful when trying to distinguish a budget when purchasing different batches of Chick-Fil-A. For example, if you had a large catering order and wanted to know what products cost over $3, this tool could be utilized. "
   ]
  },
  {
   "cell_type": "markdown",
   "metadata": {
    "colab_type": "text",
    "id": "uaLJLHzaM0gK"
   },
   "source": [
    "What is the total cost of all items found at Chick-Fil-A?"
   ]
  },
  {
   "cell_type": "code",
   "execution_count": 0,
   "metadata": {
    "colab": {
     "base_uri": "https://localhost:8080/",
     "height": 34
    },
    "colab_type": "code",
    "id": "ZG79mYAbP834",
    "outputId": "a6869b56-8d00-4f3c-a443-92bce6cf6ec0"
   },
   "outputs": [
    {
     "name": "stdout",
     "output_type": "stream",
     "text": [
      "(16.6,)\n"
     ]
    }
   ],
   "source": [
    "cursor.execute('''select sum(cost) from Products limit 5;''')\n",
    "for row in cursor.fetchall():\n",
    "  print (row)"
   ]
  },
  {
   "cell_type": "markdown",
   "metadata": {
    "colab_type": "text",
    "id": "QjuBx_DBkwiu"
   },
   "source": [
    "In this code, we've made it so that users can look up the total cost of all items found at Chick-Fil-A. This is practical because, in any type of inventory-type check, it's important to know how many products would be in stock at any given store. This is also useful for any type of financial summary data needed for annual reports. "
   ]
  }
 ],
 "metadata": {
  "colab": {
   "collapsed_sections": [],
   "include_colab_link": true,
   "name": "GroupAssignment4.ipynb",
   "provenance": []
  },
  "kernelspec": {
   "display_name": "Python 3",
   "language": "python",
   "name": "python3"
  },
  "language_info": {
   "codemirror_mode": {
    "name": "ipython",
    "version": 3
   },
   "file_extension": ".py",
   "mimetype": "text/x-python",
   "name": "python",
   "nbconvert_exporter": "python",
   "pygments_lexer": "ipython3",
   "version": "3.7.3"
  }
 },
 "nbformat": 4,
 "nbformat_minor": 1
}

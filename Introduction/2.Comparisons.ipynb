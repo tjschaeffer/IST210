{
 "cells": [
  {
   "cell_type": "markdown",
   "metadata": {
    "slideshow": {
     "slide_type": "slide"
    }
   },
   "source": [
    "# Comparison Operators"
   ]
  },
  {
   "cell_type": "markdown",
   "metadata": {
    "slideshow": {
     "slide_type": "slide"
    }
   },
   "source": [
    "We need to be able to compare different variables.  We will be working on:\n",
    "* Are these things the same?\n",
    "* Are these things not the same?\n",
    "* How do these things compare?\n",
    "\n",
    "We can compare any data type, and our output will be a boolean (True or False).  The other things we will cover are:\n",
    "* Comparing different data types\n",
    "* Making multiple comparisons at once\n",
    "\n",
    "Comparison operators are important on their own (how do these things compare?) and are also useful for sorting and switching (see the next notebook.) "
   ]
  },
  {
   "cell_type": "markdown",
   "metadata": {
    "slideshow": {
     "slide_type": "slide"
    }
   },
   "source": [
    "## Are these things the same?"
   ]
  },
  {
   "cell_type": "markdown",
   "metadata": {
    "slideshow": {
     "slide_type": "fragment"
    }
   },
   "source": [
    "We have already initiated variables by setting something equal to something else - let's do that here by setting an equal to 10 and then setting b equal to a."
   ]
  },
  {
   "cell_type": "code",
   "execution_count": 1,
   "metadata": {
    "slideshow": {
     "slide_type": "fragment"
    }
   },
   "outputs": [
    {
     "name": "stdout",
     "output_type": "stream",
     "text": [
      "a= 10 ; b = 10 ; c =  11\n"
     ]
    }
   ],
   "source": [
    "a = 10\n",
    "b = a\n",
    "c = 11 \n",
    "\n",
    "print( \"a=\", a, \"; b =\", b, \"; c = \", c )"
   ]
  },
  {
   "cell_type": "markdown",
   "metadata": {
    "slideshow": {
     "slide_type": "slide"
    }
   },
   "source": [
    "The first comparison operator is '==' which tests to see if two variables are equal. "
   ]
  },
  {
   "cell_type": "code",
   "execution_count": 2,
   "metadata": {
    "slideshow": {
     "slide_type": "fragment"
    }
   },
   "outputs": [
    {
     "name": "stdout",
     "output_type": "stream",
     "text": [
      "a= 10 ; b = 10 ; c =  11\n",
      "\n",
      "#-# Is a equal to b?\n",
      "True\n",
      "\n",
      "#-# Is a equal to c?\n",
      "False\n"
     ]
    }
   ],
   "source": [
    "print( \"a=\", a, \"; b =\", b, \"; c = \", c )\n",
    "\n",
    "# Is a equal to b?\n",
    "print( \"\\n#-# Is a equal to b?\")\n",
    "print( a == b )\n",
    "\n",
    "# Is a equal to c?\n",
    "print( \"\\n#-# Is a equal to c?\")\n",
    "print( a == c )"
   ]
  },
  {
   "cell_type": "markdown",
   "metadata": {
    "slideshow": {
     "slide_type": "fragment"
    }
   },
   "source": [
    "This tells us that a is equal to c, because it returns 'True' and a is not equal to c, as that returns 'False.'"
   ]
  },
  {
   "cell_type": "markdown",
   "metadata": {},
   "source": [
    "We can also do comparisons with other variable types.  Here's an example with strings instead of integers"
   ]
  },
  {
   "cell_type": "code",
   "execution_count": 3,
   "metadata": {},
   "outputs": [
    {
     "name": "stdout",
     "output_type": "stream",
     "text": [
      "aStr = apple ; bStr = banana ; cStr =  apple\n",
      "\n",
      "#-# Is aStr equal to bStr?\n",
      "False\n",
      "\n",
      "#-# Is aStr equal to cStr?\n",
      "True\n"
     ]
    }
   ],
   "source": [
    "aStr = 'apple'\n",
    "bStr = 'banana'\n",
    "cStr = 'apple' \n",
    "print( \"aStr =\", aStr,\"; bStr =\", bStr,\"; cStr = \", cStr )\n",
    "\n",
    "# Is aStr equal to bStr?\n",
    "print( \"\\n#-# Is aStr equal to bStr?\")\n",
    "print( aStr == bStr )\n",
    "\n",
    "# Is aStr equal to cStr?\n",
    "print( \"\\n#-# Is aStr equal to cStr?\")\n",
    "print( aStr == cStr )"
   ]
  },
  {
   "cell_type": "markdown",
   "metadata": {},
   "source": [
    "## Are these things different?"
   ]
  },
  {
   "cell_type": "markdown",
   "metadata": {
    "slideshow": {
     "slide_type": "slide"
    }
   },
   "source": [
    "We can also test to see if two values are not equal using the '!=' operator."
   ]
  },
  {
   "cell_type": "code",
   "execution_count": 4,
   "metadata": {
    "slideshow": {
     "slide_type": "fragment"
    }
   },
   "outputs": [
    {
     "name": "stdout",
     "output_type": "stream",
     "text": [
      "a = 10 ; b = 10 ; c =  11\n",
      "\n",
      "#-# Is a not equal to b?\n",
      "False\n",
      "\n",
      "#-# Is a not equal to c?\n",
      "True\n"
     ]
    }
   ],
   "source": [
    "print( \"a =\", a, \"; b =\", b, \"; c = \", c )\n",
    "\n",
    "# Is a not equal to b?\n",
    "print( \"\\n#-# Is a not equal to b?\")\n",
    "print( a != b )\n",
    "\n",
    "# Is a not equal to c?\n",
    "print( \"\\n#-# Is a not equal to c?\")\n",
    "print( a != c )"
   ]
  },
  {
   "cell_type": "markdown",
   "metadata": {
    "slideshow": {
     "slide_type": "fragment"
    }
   },
   "source": [
    "This gives us the opposite of what we had before.  It is false that a and b are not equal, meaning that they are equal.  It is true that a and c are not equal."
   ]
  },
  {
   "cell_type": "markdown",
   "metadata": {},
   "source": [
    "## How do these things compare?"
   ]
  },
  {
   "cell_type": "markdown",
   "metadata": {
    "slideshow": {
     "slide_type": "slide"
    }
   },
   "source": [
    "We can also compare the magnitude of values using '<', '<=', '>'and '>=', which will return 'True' if the condition is being met."
   ]
  },
  {
   "cell_type": "code",
   "execution_count": 5,
   "metadata": {
    "slideshow": {
     "slide_type": "subslide"
    }
   },
   "outputs": [
    {
     "name": "stdout",
     "output_type": "stream",
     "text": [
      "a = 10 ; b = 10\n",
      "\n",
      "#-# Is a less than b?\n",
      "False\n",
      "\n",
      "#-# Is a less than or equal to b?\n",
      "True\n",
      "\n",
      "#-# Is a greater than or equal to b?\n",
      "True\n",
      "\n",
      "#-# Is a greater than b?\n",
      "False\n"
     ]
    }
   ],
   "source": [
    "print( \"a =\", a, \"; b =\", b )\n",
    "\n",
    "# Is a less than b?\n",
    "print( \"\\n#-# Is a less than b?\")\n",
    "print( a < b )\n",
    "\n",
    "# Is a less than or equal to b?\n",
    "print( \"\\n#-# Is a less than or equal to b?\")\n",
    "print( a <= b )\n",
    "\n",
    "# Is aVar greater than or equal to bVar?\n",
    "print( \"\\n#-# Is a greater than or equal to b?\")\n",
    "print( a >= b )\n",
    "\n",
    "# Is a greater than b?\n",
    "print( \"\\n#-# Is a greater than b?\")\n",
    "print( a > b )"
   ]
  },
  {
   "cell_type": "markdown",
   "metadata": {},
   "source": [
    "## Warnings for variable types"
   ]
  },
  {
   "cell_type": "markdown",
   "metadata": {
    "slideshow": {
     "slide_type": "slide"
    }
   },
   "source": [
    "We do have to watch out for our types. A string of a value is not the same as a value"
   ]
  },
  {
   "cell_type": "code",
   "execution_count": 6,
   "metadata": {
    "slideshow": {
     "slide_type": "subslide"
    }
   },
   "outputs": [
    {
     "name": "stdout",
     "output_type": "stream",
     "text": [
      "a= 10 ; aStr = 10 ; aFlt = 10.0\n",
      "\n",
      "#-# Is a equal to aStr?\n",
      "False\n",
      "a type is  <class 'int'> ; and aStr type is  <class 'str'>\n",
      "\n",
      "#-# Is a equal to aFlt?\n",
      "True\n",
      "a type is  <class 'int'> ; and aStr type is  <class 'float'>\n"
     ]
    }
   ],
   "source": [
    "aStr = '10'\n",
    "aFlt = 10.0\n",
    "print( \"a=\", a, \"; aStr =\", aStr, \"; aFlt =\", aFlt  )\n",
    "\n",
    "# Is a equal to aStr?\n",
    "print( \"\\n#-# Is a equal to aStr?\")\n",
    "print( a == aStr )\n",
    "print( \"a type is \", type( a ), \"; and aStr type is \", type( aStr ) )\n",
    "\n",
    "# Is a equal to aFlt?\n",
    "print( \"\\n#-# Is a equal to aFlt?\")\n",
    "print( a == aFlt)\n",
    "print( \"a type is \", type( a ), \"; and aStr type is \", type( aFlt ) )"
   ]
  },
  {
   "cell_type": "markdown",
   "metadata": {},
   "source": [
    "We can compare integers and floats (!) but not other disparate data types.\n",
    "\n",
    "If you let python take care of your data-types, be warned that they could be different from what you think they are!"
   ]
  },
  {
   "cell_type": "markdown",
   "metadata": {},
   "source": [
    "## Multiple Comparisons"
   ]
  },
  {
   "cell_type": "markdown",
   "metadata": {},
   "source": [
    "We can make multiple comparisons at once by stringing the statements\n",
    "* and\n",
    "* not\n",
    "* or\n",
    "\n",
    "together. \n",
    "\n",
    "The individual testable (true/false) components need to be broken apart. For example,\n",
    "* If the V CATA bus is coming around the corner, then I need to run towards the bus stop\n",
    "\n",
    "requires several things for it to be true, and to require running.  We can break these things out with:\n",
    "\n",
    "<!-- * If there is a vehicle coming around the corner AND that vehicle is a CATA bus AND that CATA bus is a V, then I need to run towards the bus stop -->\n",
    "We will only run towards the bus stop if all of the statements are true"
   ]
  },
  {
   "cell_type": "markdown",
   "metadata": {},
   "source": [
    "### AND"
   ]
  },
  {
   "cell_type": "markdown",
   "metadata": {
    "slideshow": {
     "slide_type": "slide"
    }
   },
   "source": [
    "The and operator will return True if all of the conditions are met"
   ]
  },
  {
   "cell_type": "code",
   "execution_count": 7,
   "metadata": {
    "slideshow": {
     "slide_type": "fragment"
    }
   },
   "outputs": [
    {
     "name": "stdout",
     "output_type": "stream",
     "text": [
      "a= 10 ; b = 10 ; c =  11\n",
      "\n",
      "#-# Is a equal to 10?\n",
      "True\n",
      "\n",
      "#-# Is a equal to b?\n",
      "True\n",
      "\n",
      "#-# Is a equal to c?\n",
      "False\n",
      "\n",
      "#-# Is a equal to 10 AND a equal to b?\n",
      "True\n",
      "\n",
      "#-# Is a equal to 10 AND a equal to c?\n",
      "False\n"
     ]
    }
   ],
   "source": [
    "print( \"a=\", a, \"; b =\", b, \"; c = \", c )\n",
    "\n",
    "# Is a equal to 10?\n",
    "print( \"\\n#-# Is a equal to 10?\")\n",
    "print( a == 10 )\n",
    "      \n",
    "# Is a equal to b?\n",
    "print( \"\\n#-# Is a equal to b?\" )\n",
    "print( a == b )\n",
    "\n",
    "# Is a equal to c?\n",
    "print( \"\\n#-# Is a equal to c?\" )\n",
    "print( a == c )\n",
    "\n",
    "# Is a equal to 10 AND a equal to b?\n",
    "print ( \"\\n#-# Is a equal to 10 AND a equal to b?\")\n",
    "print( (a == 10) and (a == b) )\n",
    "\n",
    "# Is a equal to 10 AND a equal to c?\n",
    "print ( \"\\n#-# Is a equal to 10 AND a equal to c?\")\n",
    "print( (a == 10) and (a == c) )"
   ]
  },
  {
   "cell_type": "markdown",
   "metadata": {},
   "source": [
    "We can also string as many comparisons together as we want"
   ]
  },
  {
   "cell_type": "code",
   "execution_count": 8,
   "metadata": {},
   "outputs": [
    {
     "name": "stdout",
     "output_type": "stream",
     "text": [
      "True\n"
     ]
    }
   ],
   "source": [
    "print( (1 < 2) and (1 < 3) and (1 < 4) and (1 < 5) and (1 < 6) and (1 < 7) and (1 < 8) )"
   ]
  },
  {
   "cell_type": "markdown",
   "metadata": {},
   "source": [
    "## Try it out"
   ]
  },
  {
   "cell_type": "markdown",
   "metadata": {},
   "source": [
    "Given the following scenario, write the appropriate 'and' conditions. It should produce, true."
   ]
  },
  {
   "cell_type": "code",
   "execution_count": 4,
   "metadata": {},
   "outputs": [
    {
     "name": "stdout",
     "output_type": "stream",
     "text": [
      "True\n"
     ]
    }
   ],
   "source": [
    "year = 1967\n",
    "song = \"Penny Lane\"\n",
    "band = \"Beatles\"\n",
    "# The Beatles song \"Penny Lane\" was released after 1960 and before 1970\n",
    "print((band==\"Beatles\") and (song==\"Penny Lane\") and (year>1960) and (year<1970))"
   ]
  },
  {
   "cell_type": "markdown",
   "metadata": {},
   "source": [
    "### OR"
   ]
  },
  {
   "cell_type": "markdown",
   "metadata": {
    "slideshow": {
     "slide_type": "slide"
    }
   },
   "source": [
    "If we want 'True' for either of the conditions to be met, we can use the 'or' operator."
   ]
  },
  {
   "cell_type": "code",
   "execution_count": 10,
   "metadata": {
    "slideshow": {
     "slide_type": "fragment"
    }
   },
   "outputs": [
    {
     "name": "stdout",
     "output_type": "stream",
     "text": [
      "a= 10 ; b = 10 ; c =  11\n",
      "\n",
      "#-# Is a equal to 10?\n",
      "True\n",
      "\n",
      "#-# Is a equal to b?\n",
      "True\n",
      "\n",
      "#-# Is a equal to c?\n",
      "False\n",
      "\n",
      "#-# Is a equal to 11?\n",
      "False\n",
      "\n",
      "#-# Is a equal to 10 OR a equal to b?\n",
      "True\n",
      "\n",
      "#-# Is a equal to 10 or a equal to c?\n",
      "True\n",
      "\n",
      "#-# Is a equal to 11 or a equal to c?\n",
      "False\n"
     ]
    }
   ],
   "source": [
    "print( \"a=\", a, \"; b =\", b, \"; c = \", c )\n",
    "\n",
    "# Is a equal to 10?\n",
    "print( \"\\n#-# Is a equal to 10?\")\n",
    "print( a == 10 )\n",
    "      \n",
    "# Is a equal to b?\n",
    "print( \"\\n#-# Is a equal to b?\" )\n",
    "print( a == b )\n",
    "\n",
    "# Is a equal to c?\n",
    "print( \"\\n#-# Is a equal to c?\" )\n",
    "print( a == c )\n",
    "\n",
    "# Is a equal to 10?\n",
    "print( \"\\n#-# Is a equal to 11?\")\n",
    "print( a == 11 )\n",
    "\n",
    "# Is a equal to 10 OR a equal to b?\n",
    "print ( \"\\n#-# Is a equal to 10 OR a equal to b?\")\n",
    "print( (a == 10) or (a == b) )\n",
    "\n",
    "# Is a equal to 10 OR a equal to c?\n",
    "print ( \"\\n#-# Is a equal to 10 or a equal to c?\")\n",
    "print( (a == 10) or (a == c) )\n",
    "\n",
    "# Is a equal to 11 OR a equal to c?\n",
    "print ( \"\\n#-# Is a equal to 11 or a equal to c?\")\n",
    "print( (a == 11) or (a == c) )"
   ]
  },
  {
   "cell_type": "markdown",
   "metadata": {},
   "source": [
    "## Try it out"
   ]
  },
  {
   "cell_type": "markdown",
   "metadata": {},
   "source": [
    "Given the following scenario, write the appropriate 'and' and 'or' conditions. It should produce, true."
   ]
  },
  {
   "cell_type": "code",
   "execution_count": 5,
   "metadata": {},
   "outputs": [
    {
     "name": "stdout",
     "output_type": "stream",
     "text": [
      "True\n"
     ]
    }
   ],
   "source": [
    "year = 1967\n",
    "song = \"Penny Lane\"\n",
    "band = \"Beatles\"\n",
    "# The Beatles song released in 1967 was either \"Penny Lane\" or \"Yellow Submarine\"\n",
    "print((band==\"Beatles\") and (year==1967) and (song==\"Penny Lane\") or (song==\"Yellow Submarine\"))"
   ]
  },
  {
   "cell_type": "markdown",
   "metadata": {},
   "source": [
    "### Not"
   ]
  },
  {
   "cell_type": "markdown",
   "metadata": {},
   "source": [
    "We can add a not to change the meaning of the and/or operators"
   ]
  },
  {
   "cell_type": "code",
   "execution_count": 12,
   "metadata": {
    "slideshow": {
     "slide_type": "fragment"
    }
   },
   "outputs": [
    {
     "name": "stdout",
     "output_type": "stream",
     "text": [
      "a= 10 ; b = 10\n",
      "\n",
      "#-# Is a equal to 10?\n",
      "True\n",
      "\n",
      "#-# Is a equal to b?\n",
      "True\n",
      "\n",
      "#-# Is a equal to 10 AND a equal to b?\n",
      "True\n",
      "\n",
      "#-# Is a equal to 10 AND NOT a equal to b?\n",
      "False\n"
     ]
    }
   ],
   "source": [
    "print( \"a=\", a, \"; b =\", b )\n",
    "\n",
    "# Is aVar equal to 10?\n",
    "print( \"\\n#-# Is a equal to 10?\")\n",
    "print( a == 10 )\n",
    "      \n",
    "# Is aVar equal to bVar?\n",
    "print( \"\\n#-# Is a equal to b?\" )\n",
    "print( a == b )\n",
    "\n",
    "\n",
    "# Is aVar equal to 10 AND aVar equal to bVar?\n",
    "print ( \"\\n#-# Is a equal to 10 AND a equal to b?\")\n",
    "print( (a == 10) and (a == b) )\n",
    "\n",
    "# Is aVar equal to 10 AND NOT a equal to b?\n",
    "print ( \"\\n#-# Is a equal to 10 AND NOT a equal to b?\")\n",
    "print( (a == 10) and not (a == b) )\n"
   ]
  },
  {
   "cell_type": "markdown",
   "metadata": {},
   "source": [
    "## Try it out"
   ]
  },
  {
   "cell_type": "markdown",
   "metadata": {},
   "source": [
    "Given the following scenario, write the appropriate 'and', 'or', and 'not' conditions. It should produce, true."
   ]
  },
  {
   "cell_type": "code",
   "execution_count": 13,
   "metadata": {},
   "outputs": [],
   "source": [
    "year = 1967\n",
    "song = \"Penny Lane\"\n",
    "band = \"Beatles\"\n",
    "# The Beatles song not named \"Penny Lane\" and released either in 1965 or 1967"
   ]
  },
  {
   "cell_type": "markdown",
   "metadata": {},
   "source": [
    "Try to fill in code to fulfill the request!  Here are some variables used in the excercise"
   ]
  },
  {
   "cell_type": "code",
   "execution_count": 14,
   "metadata": {},
   "outputs": [],
   "source": [
    "dogA_color='brown'\n",
    "dogA_mass=42\n",
    "dogA_gender='male'\n",
    "dogA_age=5\n",
    "dogA_name='chip'\n",
    "\n",
    "dogB_color='white'\n",
    "dogB_mass=19\n",
    "dogB_gender='female'\n",
    "dogB_age=2\n",
    "dogB_name='lady'"
   ]
  },
  {
   "cell_type": "markdown",
   "metadata": {},
   "source": [
    "Is dogA the same color as dogB? (False)"
   ]
  },
  {
   "cell_type": "code",
   "execution_count": 15,
   "metadata": {},
   "outputs": [
    {
     "name": "stdout",
     "output_type": "stream",
     "text": [
      "False\n"
     ]
    }
   ],
   "source": [
    "# Example:\n",
    "print( dogA_color == dogB_color )"
   ]
  },
  {
   "cell_type": "markdown",
   "metadata": {},
   "source": [
    "Does dogA have the same name as dogB? (False)"
   ]
  },
  {
   "cell_type": "code",
   "execution_count": 16,
   "metadata": {},
   "outputs": [],
   "source": [
    "# Try it out here:\n"
   ]
  },
  {
   "cell_type": "markdown",
   "metadata": {},
   "source": [
    "Is dogA older than dogB? (True)"
   ]
  },
  {
   "cell_type": "code",
   "execution_count": 17,
   "metadata": {},
   "outputs": [],
   "source": [
    "# Try it out here:"
   ]
  },
  {
   "cell_type": "markdown",
   "metadata": {},
   "source": [
    "Is dogA the same gender as dogB? (False)"
   ]
  },
  {
   "cell_type": "code",
   "execution_count": 18,
   "metadata": {},
   "outputs": [],
   "source": [
    "# Try it out here:\n"
   ]
  },
  {
   "cell_type": "markdown",
   "metadata": {},
   "source": [
    "Is dogA heavier than dogB and have a different name than dogB? (True)"
   ]
  },
  {
   "cell_type": "code",
   "execution_count": 19,
   "metadata": {},
   "outputs": [],
   "source": [
    "# Try it out here:\n"
   ]
  },
  {
   "cell_type": "markdown",
   "metadata": {},
   "source": [
    "Does dogA have a different age than dogB and not a different gender than dogB? (False)"
   ]
  },
  {
   "cell_type": "code",
   "execution_count": 20,
   "metadata": {},
   "outputs": [],
   "source": [
    "# Try it out here:\n"
   ]
  },
  {
   "cell_type": "code",
   "execution_count": null,
   "metadata": {},
   "outputs": [],
   "source": []
  }
 ],
 "metadata": {
  "kernelspec": {
   "display_name": "Python 3",
   "language": "python",
   "name": "python3"
  },
  "language_info": {
   "codemirror_mode": {
    "name": "ipython",
    "version": 3
   },
   "file_extension": ".py",
   "mimetype": "text/x-python",
   "name": "python",
   "nbconvert_exporter": "python",
   "pygments_lexer": "ipython3",
   "version": "3.7.3"
  }
 },
 "nbformat": 4,
 "nbformat_minor": 2
}

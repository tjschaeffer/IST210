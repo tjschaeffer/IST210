{
 "cells": [
  {
   "cell_type": "markdown",
   "metadata": {},
   "source": [
    "# Introduction to Loops and Logic Statements"
   ]
  },
  {
   "cell_type": "markdown",
   "metadata": {},
   "source": [
    "We will also look at two different methods for sorting or conditioning data:\n",
    "* if-else statements\n",
    "\n",
    "One of the features of programming is that we have many options to do the same tasking multiple times.  \n",
    "We call these options Loops:\n",
    "* For and While loops"
   ]
  },
  {
   "cell_type": "markdown",
   "metadata": {},
   "source": [
    "## Conditioning Data"
   ]
  },
  {
   "cell_type": "markdown",
   "metadata": {},
   "source": [
    "One thing to note is the tabs used in If-Else statements."
   ]
  },
  {
   "cell_type": "markdown",
   "metadata": {},
   "source": [
    "### If-Else Statements"
   ]
  },
  {
   "cell_type": "code",
   "execution_count": 1,
   "metadata": {},
   "outputs": [
    {
     "name": "stdout",
     "output_type": "stream",
     "text": [
      "This number is greater than 30\n",
      "hello there!\n"
     ]
    }
   ],
   "source": [
    "answer = 42\n",
    "\n",
    "if answer > 30:\n",
    "    print( \"This number is greater than 30\")\n",
    "    print( \"hello there!\" )\n",
    "    \n",
    "if answer > 50:\n",
    "    print( \"This number is greater than 50\")"
   ]
  },
  {
   "cell_type": "markdown",
   "metadata": {},
   "source": [
    "In these examples, only the numbers that are greater than 30 and 50 will get any response.  We can add a response for values that do not meet the conditional statement found within the if using an else statement"
   ]
  },
  {
   "cell_type": "code",
   "execution_count": 2,
   "metadata": {},
   "outputs": [
    {
     "name": "stdout",
     "output_type": "stream",
     "text": [
      "This number is greater than 30\n",
      "This number is not greater than 50\n"
     ]
    }
   ],
   "source": [
    "answer = 42\n",
    "\n",
    "if answer > 30:\n",
    "    print( \"This number is greater than 30\")\n",
    "else:\n",
    "    print( \"This number is not greater than 30\")\n",
    "    \n",
    "if answer > 50:\n",
    "    print( \"This number is greater than 50\")\n",
    "else:\n",
    "    print( \"This number is not greater than 50\")"
   ]
  },
  {
   "cell_type": "markdown",
   "metadata": {},
   "source": [
    "There are cases where we might have mutiple if statements, in which case we use \"elif\" (else if). Let's see how this works."
   ]
  },
  {
   "cell_type": "code",
   "execution_count": 3,
   "metadata": {},
   "outputs": [
    {
     "name": "stdout",
     "output_type": "stream",
     "text": [
      "This number greater than 40, but less than 50\n"
     ]
    }
   ],
   "source": [
    "answer = 42\n",
    "\n",
    "if answer < 40:\n",
    "    print( \"This number less than 40\" )\n",
    "elif (answer > 40) and (answer < 50):\n",
    "    print( \"This number greater than 40, but less than 50\" ) \n",
    "else:\n",
    "    print( \"This number is greater than 50\")"
   ]
  },
  {
   "cell_type": "markdown",
   "metadata": {},
   "source": [
    "## Let's try this out.."
   ]
  },
  {
   "cell_type": "markdown",
   "metadata": {},
   "source": [
    "Create an if else statement for the following scenarios:"
   ]
  },
  {
   "cell_type": "code",
   "execution_count": 4,
   "metadata": {},
   "outputs": [],
   "source": [
    "cats_age = 5\n",
    "#note: traditionally, for each cat year this equals 7 human years. As in 1 year old cat == 7 year human.\n",
    "my_age = 36\n",
    "# is the cat older or younger than me?"
   ]
  },
  {
   "cell_type": "markdown",
   "metadata": {},
   "source": [
    "## For Loops"
   ]
  },
  {
   "cell_type": "markdown",
   "metadata": {},
   "source": [
    "Loops are designed to iterate through each value (specifically) for lists. \n",
    "This makes sense, you have a list of groceries and you want to go through them 1 item at a time. "
   ]
  },
  {
   "cell_type": "code",
   "execution_count": 5,
   "metadata": {},
   "outputs": [],
   "source": [
    "shoppingList = ['milk', 'eggs', 'sauce', 'spaghetti', 'bread']"
   ]
  },
  {
   "cell_type": "markdown",
   "metadata": {},
   "source": [
    "Again, notice the tabs used in for loops"
   ]
  },
  {
   "cell_type": "code",
   "execution_count": 6,
   "metadata": {},
   "outputs": [
    {
     "name": "stdout",
     "output_type": "stream",
     "text": [
      "milk\n",
      "eggs\n",
      "sauce\n",
      "spaghetti\n",
      "bread\n"
     ]
    }
   ],
   "source": [
    "for grocery in shoppingList:\n",
    "    print ( grocery )"
   ]
  },
  {
   "cell_type": "markdown",
   "metadata": {},
   "source": [
    "We can do things within the loop"
   ]
  },
  {
   "cell_type": "code",
   "execution_count": 7,
   "metadata": {},
   "outputs": [],
   "source": [
    "someNumbers = [0,1,2,3,4,5]"
   ]
  },
  {
   "cell_type": "code",
   "execution_count": 8,
   "metadata": {},
   "outputs": [
    {
     "name": "stdout",
     "output_type": "stream",
     "text": [
      "0\n",
      "10\n",
      "1\n",
      "11\n",
      "2\n",
      "12\n",
      "3\n",
      "13\n",
      "4\n",
      "14\n",
      "5\n",
      "15\n",
      "[0, 1, 2, 3, 4, 5]\n"
     ]
    }
   ],
   "source": [
    "for aNumber in someNumbers:\n",
    "    print (aNumber)\n",
    "    print (aNumber+10)\n",
    "\n",
    "print (someNumbers)"
   ]
  },
  {
   "cell_type": "markdown",
   "metadata": {},
   "source": [
    "We can also iterate over the list by its placement (or index). NOTE: everything starts at 0."
   ]
  },
  {
   "cell_type": "markdown",
   "metadata": {},
   "source": [
    "Start by getting the length of the list (how many items in the length)."
   ]
  },
  {
   "cell_type": "code",
   "execution_count": 9,
   "metadata": {},
   "outputs": [
    {
     "name": "stdout",
     "output_type": "stream",
     "text": [
      "['milk', 'eggs', 'sauce', 'spaghetti', 'bread']\n",
      "5\n"
     ]
    }
   ],
   "source": [
    "print (shoppingList)\n",
    "print (len(shoppingList))"
   ]
  },
  {
   "cell_type": "markdown",
   "metadata": {},
   "source": [
    "Next we need a range of integers from 0 - the length of list. "
   ]
  },
  {
   "cell_type": "code",
   "execution_count": 10,
   "metadata": {},
   "outputs": [
    {
     "name": "stdout",
     "output_type": "stream",
     "text": [
      "range(0, 5)\n"
     ]
    }
   ],
   "source": [
    "print ( range( len( shoppingList ) ) )"
   ]
  },
  {
   "cell_type": "markdown",
   "metadata": {},
   "source": [
    "Let's create a for loop to go through each value"
   ]
  },
  {
   "cell_type": "code",
   "execution_count": 11,
   "metadata": {},
   "outputs": [
    {
     "name": "stdout",
     "output_type": "stream",
     "text": [
      "0\n",
      "1\n",
      "2\n",
      "3\n",
      "4\n"
     ]
    }
   ],
   "source": [
    "for index in range( len( shoppingList ) ):\n",
    "    print (index)"
   ]
  },
  {
   "cell_type": "markdown",
   "metadata": {},
   "source": [
    "Now show the values in the original list. "
   ]
  },
  {
   "cell_type": "code",
   "execution_count": 12,
   "metadata": {},
   "outputs": [
    {
     "name": "stdout",
     "output_type": "stream",
     "text": [
      "0 milk\n",
      "1 eggs\n",
      "2 sauce\n",
      "3 spaghetti\n",
      "4 bread\n"
     ]
    }
   ],
   "source": [
    "for index in range( len( shoppingList ) ):\n",
    "    print (index, shoppingList[index])"
   ]
  },
  {
   "cell_type": "markdown",
   "metadata": {},
   "source": [
    "## Let's put this all together"
   ]
  },
  {
   "cell_type": "markdown",
   "metadata": {},
   "source": [
    "Try to complete the following scenarios."
   ]
  },
  {
   "cell_type": "code",
   "execution_count": 13,
   "metadata": {},
   "outputs": [],
   "source": [
    "aListOfNumbers = [6, 3, 4, 5, 7, 8, 9 ]"
   ]
  },
  {
   "cell_type": "markdown",
   "metadata": {},
   "source": [
    "Using a For-loop, add these numbers together. "
   ]
  },
  {
   "cell_type": "code",
   "execution_count": 14,
   "metadata": {},
   "outputs": [],
   "source": [
    "sumOfNumbers = 0"
   ]
  },
  {
   "cell_type": "markdown",
   "metadata": {},
   "source": [
    "Using a For-loop and conditions, add numbers less than 6 together. "
   ]
  },
  {
   "cell_type": "code",
   "execution_count": 15,
   "metadata": {},
   "outputs": [],
   "source": [
    "sumLessThanSix = 0"
   ]
  },
  {
   "cell_type": "markdown",
   "metadata": {},
   "source": [
    "Using a For-loop and conditions, add numbers less than 6 together and greater than 6 together (two seperate variables). "
   ]
  },
  {
   "cell_type": "code",
   "execution_count": 16,
   "metadata": {},
   "outputs": [],
   "source": [
    "sumLessThanSix = 0\n",
    "sumGreaterThanSix = 0"
   ]
  },
  {
   "cell_type": "code",
   "execution_count": null,
   "metadata": {},
   "outputs": [],
   "source": []
  }
 ],
 "metadata": {
  "kernelspec": {
   "display_name": "Python 3",
   "language": "python",
   "name": "python3"
  },
  "language_info": {
   "codemirror_mode": {
    "name": "ipython",
    "version": 3
   },
   "file_extension": ".py",
   "mimetype": "text/x-python",
   "name": "python",
   "nbconvert_exporter": "python",
   "pygments_lexer": "ipython3",
   "version": "3.7.3"
  }
 },
 "nbformat": 4,
 "nbformat_minor": 2
}

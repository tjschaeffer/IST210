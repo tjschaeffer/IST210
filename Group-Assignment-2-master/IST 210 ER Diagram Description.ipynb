{
 "cells": [
  {
   "cell_type": "markdown",
   "metadata": {},
   "source": [
    "# IST Group Assignment 2"
   ]
  },
  {
   "cell_type": "markdown",
   "metadata": {},
   "source": [
    "TJ Schaeffer, Anthony Tata, Brian McGilbride, Grant Pluth, David Rose"
   ]
  },
  {
   "cell_type": "markdown",
   "metadata": {},
   "source": [
    "## Description of ER Diagram"
   ]
  },
  {
   "cell_type": "markdown",
   "metadata": {},
   "source": [
    "The goal of our diagram is showcase the connections between our main focus (the stores and ingredients) and everything else that enables those to exist. In the center we have our Store and Ingredients entities, and the other parts of the business branch off of those. As you can see, almost everything is connected in one way or another. Our stores connect with our employees and daily transactions (Employee_ID and Transaction_ID). The transactions are for our food, which is made up by our ingredients. Our Ingredients entity connects to the Supplier entity where they came from (trackable through Supplier_ID), as well as the product recipes (PR_ID) that we use to turn those raw ingredients into the food our customers know and love.  These connections can be found by following the entity relationship lines. Any foreign key is connected back to the respective primary entity. We can use the numbers to judge the scale of the relationship. For example, in one store there is an average of 50 workers, and then there are many more stores. In other relationships like our daily number of transactions, there are a ton of transactions per store, which is why it’s such a big difference between the numbers. These numbers provide great context to the scale of each relationship, and the influence they have on the main business. We really wanted to showcase the two central parts of the business, which is why they are in the middle, but we also wanted to show just how crucial the other “behind-the-scenes” operations are to the overall success of the business. "
   ]
  },
  {
   "cell_type": "markdown",
   "metadata": {},
   "source": [
    "<img src=\"Group Assignment 2.svg\">"
   ]
  },
  {
   "cell_type": "code",
   "execution_count": null,
   "metadata": {},
   "outputs": [],
   "source": []
  }
 ],
 "metadata": {
  "kernelspec": {
   "display_name": "Python 3",
   "language": "python",
   "name": "python3"
  },
  "language_info": {
   "codemirror_mode": {
    "name": "ipython",
    "version": 3
   },
   "file_extension": ".py",
   "mimetype": "text/x-python",
   "name": "python",
   "nbconvert_exporter": "python",
   "pygments_lexer": "ipython3",
   "version": "3.7.3"
  }
 },
 "nbformat": 4,
 "nbformat_minor": 2
}

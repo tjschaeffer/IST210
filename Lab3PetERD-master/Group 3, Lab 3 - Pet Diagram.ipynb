{
 "cells": [
  {
   "cell_type": "markdown",
   "metadata": {},
   "source": [
    "# IST 210 Lab 3: Pet Diagram"
   ]
  },
  {
   "cell_type": "markdown",
   "metadata": {},
   "source": [
    "TJ Schaeffer, Anthony Tata, Brian Gilbride, Grant Pluth, David Rose"
   ]
  },
  {
   "cell_type": "markdown",
   "metadata": {},
   "source": [
    "<img src=\"Lab3.svg\">"
   ]
  },
  {
   "cell_type": "markdown",
   "metadata": {},
   "source": [
    "We started off by identifying and clarifying what type of structures the pets would be in. Our entity was enclosures, so we narrowed fish into aquariums, and pets into enclosures. From there, we had to figure out what the area of the enclosures were, and how many pets would fit in each enclosure.\n",
    "\n",
    "Tying into enclosures, we had to identify each specific pet. In our pets table, our entity title was “pets” and from there we specified in our attributes including the price of the pet, the type of pet (dog or fish), the type of food this pet needed, and the appropriate enclosure for each of the pets.\n",
    "\n",
    "Another entity we identified was Fish.  From here, we figured out the attributes for fish which were the type of fish, the quantity of that fish and the cost for that fish. The type of fish is related to the kind of food they get, and the cost for that food. The species dictates the type of tank that the fish goes in because fish have specific enclosures with one species allowed in each. \n",
    "\n",
    "In the entity titled type of food, each type of animal requires different types of food.  This ties into the other entities in regards to type of animal requiring certain foods. Due to the varying types of animals and types of food, the attributes for food are cost and quantity. Each animal will eat different amounts of food and those amounts will vary in price. You will see food is a part of many of our entities. \n",
    "\n",
    "To track our business metrics we have entities such as transactions, that involves the sale of our animals and food types, as well as food expenses that we take to feed our pets while in the store. \n",
    "\n",
    "The other differing factor for our pets is how we house them in our store. We have two entities for either an aquarium (fish) or enclosures (other pets). These will vary by pet type/fish type. Each one will have attributes that have the area of the space as well as number of pets in that space. \n"
   ]
  },
  {
   "cell_type": "code",
   "execution_count": null,
   "metadata": {},
   "outputs": [],
   "source": []
  }
 ],
 "metadata": {
  "kernelspec": {
   "display_name": "Python 3",
   "language": "python",
   "name": "python3"
  },
  "language_info": {
   "codemirror_mode": {
    "name": "ipython",
    "version": 3
   },
   "file_extension": ".py",
   "mimetype": "text/x-python",
   "name": "python",
   "nbconvert_exporter": "python",
   "pygments_lexer": "ipython3",
   "version": "3.7.3"
  }
 },
 "nbformat": 4,
 "nbformat_minor": 2
}
